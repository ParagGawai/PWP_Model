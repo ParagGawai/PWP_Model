{
 "cells": [
  {
   "cell_type": "code",
   "execution_count": 2,
   "id": "62f9ba01",
   "metadata": {},
   "outputs": [
    {
     "name": "stdout",
     "output_type": "stream",
     "text": [
      "dict_keys(['temp', 'sal', 'uvel', 'vvel', 'dens', 'mld', 'z', 'time'])\n"
     ]
    }
   ],
   "source": [
    "import netCDF4\n",
    "import numpy as np \n",
    "import cartopy\n",
    "import cartopy.crs as ccrs\n",
    "import matplotlib\n",
    "import matplotlib.pyplot as plt\n",
    "\n",
    "\n",
    "#ax = plt.axes(projection=ccrs.PlateCarree())\n",
    "#ax.stock_img()\n",
    "f = netCDF4.Dataset('output/pwp_output.nc')\n",
    "print(f.variables.keys())"
   ]
  },
  {
   "cell_type": "code",
   "execution_count": 4,
   "id": "2f041724",
   "metadata": {},
   "outputs": [
    {
     "name": "stdout",
     "output_type": "stream",
     "text": [
      "('z', 'time') (251, 246)\n",
      "1.708999127417989 -0.45794237308172103\n"
     ]
    },
    {
     "data": {
      "text/plain": [
       "[<matplotlib.lines.Line2D at 0x7f8c503fd5e0>]"
      ]
     },
     "execution_count": 4,
     "metadata": {},
     "output_type": "execute_result"
    },
    {
     "data": {
      "image/png": "[encoded data removed]",
      "text/plain": [
       "<Figure size 432x288 with 1 Axes>"
      ]
     },
     "metadata": {
      "needs_background": "light"
     },
     "output_type": "display_data"
    }
   ],
   "source": [
    "import netCDF4\n",
    "import numpy as np \n",
    "import cartopy\n",
    "import cartopy.crs as ccrs\n",
    "import matplotlib\n",
    "import matplotlib.pyplot as plt\n",
    "\n",
    "\n",
    "#ax = plt.axes(projection=ccrs.PlateCarree())\n",
    "#ax.stock_img()\n",
    "f = netCDF4.Dataset('output/pwp_output.nc')\n",
    "temp=f.variables['temp']\n",
    "print(temp.dimensions,temp.shape)\n",
    "print(np.max(temp[:,:]),np.min(temp[:,:]))\n",
    "\n",
    "t=f.variables['time']\n",
    "plt.plot(t,temp[0,:])"
   ]
  },
  {
   "cell_type": "code",
   "execution_count": null,
   "id": "0d5a76ad",
   "metadata": {},
   "outputs": [],
   "source": []
  }
 ],
 "metadata": {
  "kernelspec": {
   "display_name": "Python 3",
   "language": "python",
   "name": "python3"
  },
  "language_info": {
   "codemirror_mode": {
    "name": "ipython",
    "version": 3
   },
   "file_extension": ".py",
   "mimetype": "text/x-python",
   "name": "python",
   "nbconvert_exporter": "python",
   "pygments_lexer": "ipython3",
   "version": "3.8.8"
  }
 },
 "nbformat": 4,
 "nbformat_minor": 5
}
